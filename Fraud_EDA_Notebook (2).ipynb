{
  "nbformat": 4,
  "nbformat_minor": 5,
  "metadata": {},
  "cells": [
    {
      "id": "7b7f1929",
      "cell_type": "markdown",
      "source": "\n# Fraud Transaction Detection EDA\n\nThis notebook contains exploratory data analysis (EDA) for the **Fraud.csv** dataset as per the Accredian assessment.\n\n---\n\n## Dataset Description\n- **step** \u2014 maps a unit of time in the real world. 1 step = 1 hour. Total steps: 744 (30 days).\n- **type** \u2014 Transaction type: `CASH-IN`, `CASH-OUT`, `DEBIT`, `PAYMENT`, `TRANSFER`.\n- **amount** \u2014 Transaction amount (local currency).\n- **nameOrig** \u2014 Originating customer ID.\n- **oldbalanceOrg** \u2014 Initial balance before transaction.\n- **newbalanceOrig** \u2014 New balance after transaction.\n- **nameDest** \u2014 Destination customer ID.\n- **oldbalanceDest** \u2014 Initial balance of recipient (NaN for merchants).\n- **newbalanceDest** \u2014 New balance of recipient (NaN for merchants).\n- **isFraud** \u2014 Transactions made by fraudulent agents.\n- **isFlaggedFraud** \u2014 Flags illegal attempts (> 200,000 in a single transaction).\n",
      "metadata": {}
    },
    {
      "id": "8a8f3f79",
      "cell_type": "code",
      "metadata": {},
      "execution_count": null,
      "source": "\nimport pandas as pd\nimport matplotlib.pyplot as plt\nimport seaborn as sns\n\nplt.rcParams[\"figure.figsize\"] = (10, 6)\nsns.set_style(\"whitegrid\")\n\ndf = pd.read_csv(\"Fraud.csv\")\ndf.head()\n",
      "outputs": []
    },
    {
      "id": "f1a5a111",
      "cell_type": "code",
      "metadata": {},
      "execution_count": null,
      "source": "df.info()",
      "outputs": []
    },
    {
      "id": "25b47ea6",
      "cell_type": "code",
      "metadata": {},
      "execution_count": null,
      "source": "df.describe().T",
      "outputs": []
    },
    {
      "id": "d986363f",
      "cell_type": "code",
      "metadata": {},
      "execution_count": null,
      "source": "df.isnull().sum()",
      "outputs": []
    },
    {
      "id": "e60f6b72",
      "cell_type": "code",
      "metadata": {},
      "execution_count": null,
      "source": "\ndf['type'].value_counts().plot(kind='bar', color=\"#4C72B0\")\nplt.title(\"Transaction Type Distribution\")\nplt.ylabel(\"Count\")\nplt.show()\n",
      "outputs": []
    },
    {
      "id": "42081853",
      "cell_type": "code",
      "metadata": {},
      "execution_count": null,
      "source": "\nfraud_counts = df['isFraud'].value_counts()\nfraud_percentage = (fraud_counts[1] / len(df)) * 100\n\nplt.bar(['Non-Fraud', 'Fraud'], fraud_counts.values, color=[\"#4C72B0\", \"#DD8452\"])\nplt.title(f\"Fraud vs Non-Fraud Transactions ({fraud_percentage:.4f}% Fraud)\")\nplt.ylabel(\"Count\")\nplt.show()\n",
      "outputs": []
    },
    {
      "id": "a55d08ab",
      "cell_type": "code",
      "metadata": {},
      "execution_count": null,
      "source": "\nfraud_by_type = df.groupby('type')['isFraud'].mean().sort_values(ascending=False) * 100\nsns.barplot(x=fraud_by_type.index, y=fraud_by_type.values, color=\"#55A868\")\nplt.title(\"Fraud Rate by Transaction Type (%)\")\nplt.ylabel(\"Fraud Rate (%)\")\nplt.show()\n",
      "outputs": []
    },
    {
      "id": "d175503f",
      "cell_type": "code",
      "metadata": {},
      "execution_count": null,
      "source": "df['isFlaggedFraud'].value_counts()",
      "outputs": []
    },
    {
      "id": "aa66934a",
      "cell_type": "code",
      "metadata": {},
      "execution_count": null,
      "source": "\nsns.boxplot(data=df[df['isFraud'] == 1], x='type', y='amount', color=\"#C44E52\")\nplt.title(\"Fraudulent Transaction Amounts\")\nplt.ylim(0, df['amount'].quantile(0.99))\nplt.show()\n",
      "outputs": []
    },
    {
      "id": "741f97f4",
      "cell_type": "code",
      "metadata": {},
      "execution_count": null,
      "source": "\ndf[(df['type'] == 'TRANSFER') & (df['amount'] > 200000)]\n",
      "outputs": []
    },
    {
      "id": "fbbeccce",
      "cell_type": "code",
      "metadata": {},
      "execution_count": null,
      "source": "\nfraud_trend = df.groupby('step')['isFraud'].sum()\nplt.plot(fraud_trend.index, fraud_trend.values, marker='o', color=\"#8172B3\")\nplt.title(\"Fraudulent Transactions Over Time\")\nplt.xlabel(\"Step (Hour)\")\nplt.ylabel(\"Number of Fraud Cases\")\nplt.show()\n",
      "outputs": []
    }
  ]
}